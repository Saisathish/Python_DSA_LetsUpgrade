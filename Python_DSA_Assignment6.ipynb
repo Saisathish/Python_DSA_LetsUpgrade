{
 "cells": [
  {
   "cell_type": "markdown",
   "metadata": {},
   "source": [
    "### Question 1\n",
    "Perform Selection sort using function in python."
   ]
  },
  {
   "cell_type": "code",
   "execution_count": 1,
   "metadata": {},
   "outputs": [],
   "source": [
    "def selectionSort(arr):\n",
    "    n=len(arr)\n",
    "    for i in range(0,n-1):\n",
    "        pos=i            # pos will have index of least value\n",
    "        for j in range(i+1,n):\n",
    "            if(arr[j]<arr[pos]):\n",
    "                pos=j\n",
    "        arr[i],arr[pos]=arr[pos],arr[i]\n",
    "    return arr"
   ]
  },
  {
   "cell_type": "code",
   "execution_count": 2,
   "metadata": {},
   "outputs": [
    {
     "name": "stdout",
     "output_type": "stream",
     "text": [
      "Enter space seperated array: 2 8 5 3 0 7  1\n",
      "[2, 8, 5, 3, 0, 7, 1]\n",
      "[0, 1, 2, 3, 5, 7, 8]\n"
     ]
    }
   ],
   "source": [
    "arr = [int(i) for i in input('Enter space seperated array: ').split()]\n",
    "print(arr)\n",
    "sorted_arr = selectionSort(arr)\n",
    "print(sorted_arr)"
   ]
  },
  {
   "cell_type": "markdown",
   "metadata": {},
   "source": [
    "### Question 2\n",
    "Perform Insertion sort using function in python."
   ]
  },
  {
   "cell_type": "code",
   "execution_count": 3,
   "metadata": {},
   "outputs": [],
   "source": [
    "def insertionSort(arr):\n",
    "    n=len(arr)\n",
    "    for j in range(1,n):\n",
    "        key=arr[j]\n",
    "        i=j-1\n",
    "        while(i>=0 and arr[i]>key):\n",
    "            arr[i+1]=arr[i]\n",
    "            i=i-1\n",
    "        arr[i+1]=key\n",
    "    return arr"
   ]
  },
  {
   "cell_type": "code",
   "execution_count": 4,
   "metadata": {},
   "outputs": [
    {
     "name": "stdout",
     "output_type": "stream",
     "text": [
      "Enter space seperated array: 9 5 7 6 4 2 8 3\n",
      "[9, 5, 7, 6, 4, 2, 8, 3]\n",
      "[2, 3, 4, 5, 6, 7, 8, 9]\n"
     ]
    }
   ],
   "source": [
    "arr = [int(i) for i in input('Enter space seperated array: ').split()]\n",
    "print(arr)\n",
    "sorted_arr = insertionSort(arr)\n",
    "print(sorted_arr)"
   ]
  }
 ],
 "metadata": {
  "kernelspec": {
   "display_name": "Python 3",
   "language": "python",
   "name": "python3"
  },
  "language_info": {
   "codemirror_mode": {
    "name": "ipython",
    "version": 3
   },
   "file_extension": ".py",
   "mimetype": "text/x-python",
   "name": "python",
   "nbconvert_exporter": "python",
   "pygments_lexer": "ipython3",
   "version": "3.8.3"
  }
 },
 "nbformat": 4,
 "nbformat_minor": 4
}
