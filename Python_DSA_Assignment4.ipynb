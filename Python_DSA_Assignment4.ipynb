{
 "cells": [
  {
   "cell_type": "markdown",
   "metadata": {},
   "source": [
    "## Question 1\n",
    "Write a program to print the following pattern"
   ]
  },
  {
   "cell_type": "raw",
   "metadata": {},
   "source": [
    "1\n",
    "22\n",
    "333\n",
    "4444\n",
    "55555"
   ]
  },
  {
   "cell_type": "code",
   "execution_count": 1,
   "metadata": {},
   "outputs": [],
   "source": [
    "for i in range(1,6):\n",
    "    print(str(i)*i)"
   ]
  },
  {
   "cell_type": "code",
   "execution_count": 2,
   "metadata": {},
   "outputs": [],
   "source": [
    "#another method\n",
    "\n",
    "for i in range(1,6):\n",
    "    for j in range(1,6):\n",
    "        if(i>=j):\n",
    "            print(i,end=\"\")\n",
    "    print()"
   ]
  },
  {
   "cell_type": "markdown",
   "metadata": {},
   "source": [
    "## Question 2\n",
    "Write a Python program to add two numbers using class and object.\n",
    "(Take both numbers as input from the user)"
   ]
  },
  {
   "cell_type": "code",
   "execution_count": 3,
   "metadata": {},
   "outputs": [],
   "source": [
    "class sumnum:\n",
    "    def __init__(self,x,y):\n",
    "        self.num1 = x\n",
    "        self.num2 = y\n",
    "    \n",
    "    def sum_of_num(self):\n",
    "        print('sum of the numbers '+str(self.num1)+' and '+str(self.num2)+' is : ', self.num1 + self.num2)\n",
    "\n",
    "pair1 = sumnum(23,32)\n",
    "pair2 = sumnum(40,30)\n",
    "pair1.sum_of_num()\n",
    "pair2.sum_of_num()"
   ]
  },
  {
   "cell_type": "code",
   "execution_count": 5,
   "metadata": {},
   "outputs": [
    {
     "name": "stdout",
     "output_type": "stream",
     "text": [
      "Enter first number: 45.8\n",
      "Enter second number: 55.34\n",
      "sum of the numbers 45.8 and 55.34 is :  101.14\n"
     ]
    }
   ],
   "source": [
    "a1=float(input('Enter first number: '))\n",
    "a2=float(input('Enter second number: '))\n",
    "usernum = sumnum(a1,a2)\n",
    "usernum.sum_of_num()"
   ]
  }
 ],
 "metadata": {
  "kernelspec": {
   "display_name": "Python 3",
   "language": "python",
   "name": "python3"
  },
  "language_info": {
   "codemirror_mode": {
    "name": "ipython",
    "version": 3
   },
   "file_extension": ".py",
   "mimetype": "text/x-python",
   "name": "python",
   "nbconvert_exporter": "python",
   "pygments_lexer": "ipython3",
   "version": "3.8.3"
  }
 },
 "nbformat": 4,
 "nbformat_minor": 4
}
