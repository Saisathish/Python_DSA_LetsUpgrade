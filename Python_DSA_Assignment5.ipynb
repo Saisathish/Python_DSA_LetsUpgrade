{
 "cells": [
  {
   "cell_type": "markdown",
   "metadata": {},
   "source": [
    "### Question 1\n",
    "Define a function swap that should swap two values and print the swapped variables outside the\n",
    "swap function."
   ]
  },
  {
   "cell_type": "code",
   "execution_count": 1,
   "metadata": {},
   "outputs": [
    {
     "name": "stdout",
     "output_type": "stream",
     "text": [
      "Enter input1: 20\n",
      "Enter input2: 39\n",
      "before swap:   x= 20  y= 39\n",
      "after swap:   x= 39  y= 20\n"
     ]
    }
   ],
   "source": [
    "def swapfn(a,b):\n",
    "    return b,a    \n",
    "#     the python way if not python we could have used\n",
    "#     temp=a\n",
    "#     a=b\n",
    "#     b=temp\n",
    "\n",
    "x=input('Enter input1: ')\n",
    "y=input('Enter input2: ')\n",
    "print('before swap:   x=',x,' y=',y)\n",
    "x,y=swapfn(x,y)\n",
    "print('after swap:   x=',x,' y=',y)"
   ]
  },
  {
   "cell_type": "markdown",
   "metadata": {},
   "source": [
    "### Question 2\n",
    "Perform insert at end operation in the linked list"
   ]
  },
  {
   "cell_type": "code",
   "execution_count": 2,
   "metadata": {},
   "outputs": [],
   "source": [
    "class Node:\n",
    "    def __init__(self,data):\n",
    "        self.data=data\n",
    "        self.next=None\n",
    "        \n",
    "class LinkedList:\n",
    "    def __init__(self):\n",
    "        self.head=None\n",
    "        self.tail=None\n",
    "    \n",
    "    def insert_beg(self,x):\n",
    "        new=Node(x)\n",
    "        \n",
    "        if self.head==None:\n",
    "            self.head=self.tail=new\n",
    "            return\n",
    "        new.next=self.head\n",
    "        self.head=new\n",
    "    \n",
    "                                   #Inserting at the end of Linked list\n",
    "    def insert_end(self,x):\n",
    "        new=Node(x)\n",
    "        \n",
    "        if self.tail==None:\n",
    "            self.head=self.tail=new\n",
    "            return\n",
    "        \n",
    "        self.tail.next=new\n",
    "        self.tail=new\n",
    "        \n",
    "    \n",
    "    def delete_beg(self):\n",
    "        if self.head==None:\n",
    "            print('No node to delete')\n",
    "            return\n",
    "        if self.head.next==None:\n",
    "            self.head=self.head.next\n",
    "            self.tail=self.tail.next\n",
    "            return\n",
    "        self.head=self.head.next\n",
    "        return\n",
    "        \n",
    "    \n",
    "    def displayList(self):\n",
    "        if self.head==None:\n",
    "            print('List is empty')\n",
    "            return\n",
    "        temp=self.head\n",
    "        while(temp!=None):\n",
    "            print(temp.data,end=\"->\")\n",
    "            temp = temp.next\n",
    "        print('N')"
   ]
  },
  {
   "cell_type": "code",
   "execution_count": 4,
   "metadata": {},
   "outputs": [
    {
     "name": "stdout",
     "output_type": "stream",
     "text": [
      "40->30->20->10->N\n",
      "40->30->20->10->100->110->120->N\n"
     ]
    }
   ],
   "source": [
    "li=LinkedList()\n",
    "li.insert_beg(10)\n",
    "li.insert_beg(20)\n",
    "li.insert_beg(30)\n",
    "li.insert_beg(40)\n",
    "\n",
    "li.displayList()\n",
    "\n",
    "li.insert_end(100)\n",
    "li.insert_end(110)\n",
    "li.insert_end(120)\n",
    "\n",
    "li.displayList()"
   ]
  }
 ],
 "metadata": {
  "kernelspec": {
   "display_name": "Python 3",
   "language": "python",
   "name": "python3"
  },
  "language_info": {
   "codemirror_mode": {
    "name": "ipython",
    "version": 3
   },
   "file_extension": ".py",
   "mimetype": "text/x-python",
   "name": "python",
   "nbconvert_exporter": "python",
   "pygments_lexer": "ipython3",
   "version": "3.8.3"
  }
 },
 "nbformat": 4,
 "nbformat_minor": 4
}
