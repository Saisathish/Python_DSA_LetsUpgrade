{
 "cells": [
  {
   "cell_type": "markdown",
   "metadata": {},
   "source": [
    "## Question 1\n",
    "What is the time, space complexity of following code:"
   ]
  },
  {
   "cell_type": "code",
   "execution_count": null,
   "metadata": {},
   "outputs": [],
   "source": [
    "#     int a = 0, b = 0;\n",
    "#     for (i = 0; i < N; i++) {\n",
    "#         a = a + 1;\n",
    "#     }\n",
    "#     for (j = 0; j < M; j++) {\n",
    "#         b = b + j;\n",
    "#     }"
   ]
  },
  {
   "cell_type": "markdown",
   "metadata": {},
   "source": [
    "#### Space Complexity\n",
    "We can see that even though there is for loop there are no arrays. There are 6 variables and assuming all are intereger variables we could say they occupy a space of 4*6 = 24bytes. This is a constant so we can say:\n",
    " - space complexity of constant : O(1)"
   ]
  },
  {
   "cell_type": "markdown",
   "metadata": {},
   "source": [
    "#### Time Complexity\n",
    "We can see there are two for loops of varying length N, M respectively. So we  can say it has a complexity of O(N+M) or we could also say O(max(N,M)) since if both were same it would be O(2N) where constant is ignore it becomes O(N).\n",
    "- Time complexity is linear : O(N)  or  O(max(N,M))"
   ]
  },
  {
   "cell_type": "markdown",
   "metadata": {},
   "source": [
    "## Question 2\n",
    "What does it mean when we say that an algorithm X is asymptotically more efficient than Y?\n",
    "- a) X will be a better choice for all inputs\n",
    "- b) X will be a better choice for all inputs except possibly small inputs\n",
    "- c) X will be a better choice for all inputs except possibly large inputs\n",
    "- d)Y will be a better choice for small inputs"
   ]
  },
  {
   "cell_type": "raw",
   "metadata": {},
   "source": [
    "option \n",
    "(a)X will be a better choice for all inputs as well as \n",
    "(b) X will be a better choice for all inputs except possibly small inputs,  \n",
    "\n",
    "both are partially correct since if said algorithm X is asymptotically more efficient than Y means that X is better choice for large inputs but nothing can be told for small inputs."
   ]
  }
 ],
 "metadata": {
  "kernelspec": {
   "display_name": "Python 3",
   "language": "python",
   "name": "python3"
  },
  "language_info": {
   "codemirror_mode": {
    "name": "ipython",
    "version": 3
   },
   "file_extension": ".py",
   "mimetype": "text/x-python",
   "name": "python",
   "nbconvert_exporter": "python",
   "pygments_lexer": "ipython3",
   "version": "3.8.3"
  }
 },
 "nbformat": 4,
 "nbformat_minor": 4
}
